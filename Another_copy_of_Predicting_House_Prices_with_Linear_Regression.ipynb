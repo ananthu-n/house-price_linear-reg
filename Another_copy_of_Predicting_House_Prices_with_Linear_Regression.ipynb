{
  "metadata": {
    "kernelspec": {
      "language": "python",
      "display_name": "Python 3",
      "name": "python3"
    },
    "language_info": {
      "pygments_lexer": "ipython3",
      "nbconvert_exporter": "python",
      "version": "3.6.4",
      "file_extension": ".py",
      "codemirror_mode": {
        "name": "ipython",
        "version": 3
      },
      "name": "python",
      "mimetype": "text/x-python"
    },
    "colab": {
      "provenance": []
    }
  },
  "nbformat_minor": 0,
  "nbformat": 4,
  "cells": [
    {
      "cell_type": "markdown",
      "source": [],
      "metadata": {
        "id": "wdFNvlQyB332"
      }
    },
    {
      "cell_type": "markdown",
      "source": [
        "library importing"
      ],
      "metadata": {
        "id": "YRHe-sH4CFuG"
      }
    },
    {
      "cell_type": "code",
      "source": [
        "import numpy as np\n",
        "import pandas as pd\n",
        "from math import sqrt\n",
        "from scipy.stats import skew\n",
        "import matplotlib.pyplot as plt\n",
        "from sklearn import linear_model\n",
        "from sklearn import preprocessing\n",
        "from sklearn.model_selection import train_test_split\n",
        "from sklearn.metrics import mean_absolute_error, mean_squared_error"
      ],
      "metadata": {
        "execution": {
          "iopub.status.busy": "2021-06-10T05:34:40.09323Z",
          "iopub.execute_input": "2021-06-10T05:34:40.093664Z",
          "iopub.status.idle": "2021-06-10T05:34:41.191591Z",
          "shell.execute_reply.started": "2021-06-10T05:34:40.093577Z",
          "shell.execute_reply": "2021-06-10T05:34:41.190579Z"
        },
        "trusted": true,
        "id": "FDTeAK21BwSQ"
      },
      "execution_count": 1,
      "outputs": []
    },
    {
      "cell_type": "markdown",
      "source": [
        "loading datasets"
      ],
      "metadata": {
        "id": "v0LV9BcFBwSR"
      }
    },
    {
      "cell_type": "code",
      "source": [
        "# load the datasets into dataframe\n",
        "train = pd.read_csv('/content/train (2).csv')\n",
        "test = pd.read_csv('/content/test (2).csv')"
      ],
      "metadata": {
        "execution": {
          "iopub.status.busy": "2021-06-10T05:34:41.19997Z",
          "iopub.execute_input": "2021-06-10T05:34:41.200386Z",
          "iopub.status.idle": "2021-06-10T05:34:41.292942Z",
          "shell.execute_reply.started": "2021-06-10T05:34:41.200353Z",
          "shell.execute_reply": "2021-06-10T05:34:41.291766Z"
        },
        "trusted": true,
        "id": "L3VqXHosBwSR"
      },
      "execution_count": 2,
      "outputs": []
    },
    {
      "cell_type": "code",
      "source": [
        "# show the first few records of train set\n",
        "train.head()"
      ],
      "metadata": {
        "execution": {
          "iopub.status.busy": "2021-06-10T05:34:41.444446Z",
          "iopub.execute_input": "2021-06-10T05:34:41.444781Z",
          "iopub.status.idle": "2021-06-10T05:34:41.489864Z",
          "shell.execute_reply.started": "2021-06-10T05:34:41.444752Z",
          "shell.execute_reply": "2021-06-10T05:34:41.488699Z"
        },
        "trusted": true,
        "id": "C0PLZnrLBwSS",
        "outputId": "e790e0e7-9e1d-48c8-8328-bbff4be3dfc6",
        "colab": {
          "base_uri": "https://localhost:8080/",
          "height": 256
        }
      },
      "execution_count": 3,
      "outputs": [
        {
          "output_type": "execute_result",
          "data": {
            "text/plain": [
              "   Id  MSSubClass MSZoning  LotFrontage  LotArea Street Alley LotShape  \\\n",
              "0   1          60       RL         65.0     8450   Pave   NaN      Reg   \n",
              "1   2          20       RL         80.0     9600   Pave   NaN      Reg   \n",
              "2   3          60       RL         68.0    11250   Pave   NaN      IR1   \n",
              "3   4          70       RL         60.0     9550   Pave   NaN      IR1   \n",
              "4   5          60       RL         84.0    14260   Pave   NaN      IR1   \n",
              "\n",
              "  LandContour Utilities  ... PoolArea PoolQC Fence MiscFeature MiscVal MoSold  \\\n",
              "0         Lvl    AllPub  ...        0    NaN   NaN         NaN       0      2   \n",
              "1         Lvl    AllPub  ...        0    NaN   NaN         NaN       0      5   \n",
              "2         Lvl    AllPub  ...        0    NaN   NaN         NaN       0      9   \n",
              "3         Lvl    AllPub  ...        0    NaN   NaN         NaN       0      2   \n",
              "4         Lvl    AllPub  ...        0    NaN   NaN         NaN       0     12   \n",
              "\n",
              "  YrSold  SaleType  SaleCondition  SalePrice  \n",
              "0   2008        WD         Normal     208500  \n",
              "1   2007        WD         Normal     181500  \n",
              "2   2008        WD         Normal     223500  \n",
              "3   2006        WD        Abnorml     140000  \n",
              "4   2008        WD         Normal     250000  \n",
              "\n",
              "[5 rows x 81 columns]"
            ],
            "text/html": [
              "\n",
              "  <div id=\"df-0c3940f7-8c3d-45d6-8c29-3bfccc85fad3\" class=\"colab-df-container\">\n",
              "    <div>\n",
              "<style scoped>\n",
              "    .dataframe tbody tr th:only-of-type {\n",
              "        vertical-align: middle;\n",
              "    }\n",
              "\n",
              "    .dataframe tbody tr th {\n",
              "        vertical-align: top;\n",
              "    }\n",
              "\n",
              "    .dataframe thead th {\n",
              "        text-align: right;\n",
              "    }\n",
              "</style>\n",
              "<table border=\"1\" class=\"dataframe\">\n",
              "  <thead>\n",
              "    <tr style=\"text-align: right;\">\n",
              "      <th></th>\n",
              "      <th>Id</th>\n",
              "      <th>MSSubClass</th>\n",
              "      <th>MSZoning</th>\n",
              "      <th>LotFrontage</th>\n",
              "      <th>LotArea</th>\n",
              "      <th>Street</th>\n",
              "      <th>Alley</th>\n",
              "      <th>LotShape</th>\n",
              "      <th>LandContour</th>\n",
              "      <th>Utilities</th>\n",
              "      <th>...</th>\n",
              "      <th>PoolArea</th>\n",
              "      <th>PoolQC</th>\n",
              "      <th>Fence</th>\n",
              "      <th>MiscFeature</th>\n",
              "      <th>MiscVal</th>\n",
              "      <th>MoSold</th>\n",
              "      <th>YrSold</th>\n",
              "      <th>SaleType</th>\n",
              "      <th>SaleCondition</th>\n",
              "      <th>SalePrice</th>\n",
              "    </tr>\n",
              "  </thead>\n",
              "  <tbody>\n",
              "    <tr>\n",
              "      <th>0</th>\n",
              "      <td>1</td>\n",
              "      <td>60</td>\n",
              "      <td>RL</td>\n",
              "      <td>65.0</td>\n",
              "      <td>8450</td>\n",
              "      <td>Pave</td>\n",
              "      <td>NaN</td>\n",
              "      <td>Reg</td>\n",
              "      <td>Lvl</td>\n",
              "      <td>AllPub</td>\n",
              "      <td>...</td>\n",
              "      <td>0</td>\n",
              "      <td>NaN</td>\n",
              "      <td>NaN</td>\n",
              "      <td>NaN</td>\n",
              "      <td>0</td>\n",
              "      <td>2</td>\n",
              "      <td>2008</td>\n",
              "      <td>WD</td>\n",
              "      <td>Normal</td>\n",
              "      <td>208500</td>\n",
              "    </tr>\n",
              "    <tr>\n",
              "      <th>1</th>\n",
              "      <td>2</td>\n",
              "      <td>20</td>\n",
              "      <td>RL</td>\n",
              "      <td>80.0</td>\n",
              "      <td>9600</td>\n",
              "      <td>Pave</td>\n",
              "      <td>NaN</td>\n",
              "      <td>Reg</td>\n",
              "      <td>Lvl</td>\n",
              "      <td>AllPub</td>\n",
              "      <td>...</td>\n",
              "      <td>0</td>\n",
              "      <td>NaN</td>\n",
              "      <td>NaN</td>\n",
              "      <td>NaN</td>\n",
              "      <td>0</td>\n",
              "      <td>5</td>\n",
              "      <td>2007</td>\n",
              "      <td>WD</td>\n",
              "      <td>Normal</td>\n",
              "      <td>181500</td>\n",
              "    </tr>\n",
              "    <tr>\n",
              "      <th>2</th>\n",
              "      <td>3</td>\n",
              "      <td>60</td>\n",
              "      <td>RL</td>\n",
              "      <td>68.0</td>\n",
              "      <td>11250</td>\n",
              "      <td>Pave</td>\n",
              "      <td>NaN</td>\n",
              "      <td>IR1</td>\n",
              "      <td>Lvl</td>\n",
              "      <td>AllPub</td>\n",
              "      <td>...</td>\n",
              "      <td>0</td>\n",
              "      <td>NaN</td>\n",
              "      <td>NaN</td>\n",
              "      <td>NaN</td>\n",
              "      <td>0</td>\n",
              "      <td>9</td>\n",
              "      <td>2008</td>\n",
              "      <td>WD</td>\n",
              "      <td>Normal</td>\n",
              "      <td>223500</td>\n",
              "    </tr>\n",
              "    <tr>\n",
              "      <th>3</th>\n",
              "      <td>4</td>\n",
              "      <td>70</td>\n",
              "      <td>RL</td>\n",
              "      <td>60.0</td>\n",
              "      <td>9550</td>\n",
              "      <td>Pave</td>\n",
              "      <td>NaN</td>\n",
              "      <td>IR1</td>\n",
              "      <td>Lvl</td>\n",
              "      <td>AllPub</td>\n",
              "      <td>...</td>\n",
              "      <td>0</td>\n",
              "      <td>NaN</td>\n",
              "      <td>NaN</td>\n",
              "      <td>NaN</td>\n",
              "      <td>0</td>\n",
              "      <td>2</td>\n",
              "      <td>2006</td>\n",
              "      <td>WD</td>\n",
              "      <td>Abnorml</td>\n",
              "      <td>140000</td>\n",
              "    </tr>\n",
              "    <tr>\n",
              "      <th>4</th>\n",
              "      <td>5</td>\n",
              "      <td>60</td>\n",
              "      <td>RL</td>\n",
              "      <td>84.0</td>\n",
              "      <td>14260</td>\n",
              "      <td>Pave</td>\n",
              "      <td>NaN</td>\n",
              "      <td>IR1</td>\n",
              "      <td>Lvl</td>\n",
              "      <td>AllPub</td>\n",
              "      <td>...</td>\n",
              "      <td>0</td>\n",
              "      <td>NaN</td>\n",
              "      <td>NaN</td>\n",
              "      <td>NaN</td>\n",
              "      <td>0</td>\n",
              "      <td>12</td>\n",
              "      <td>2008</td>\n",
              "      <td>WD</td>\n",
              "      <td>Normal</td>\n",
              "      <td>250000</td>\n",
              "    </tr>\n",
              "  </tbody>\n",
              "</table>\n",
              "<p>5 rows × 81 columns</p>\n",
              "</div>\n",
              "    <div class=\"colab-df-buttons\">\n",
              "\n",
              "  <div class=\"colab-df-container\">\n",
              "    <button class=\"colab-df-convert\" onclick=\"convertToInteractive('df-0c3940f7-8c3d-45d6-8c29-3bfccc85fad3')\"\n",
              "            title=\"Convert this dataframe to an interactive table.\"\n",
              "            style=\"display:none;\">\n",
              "\n",
              "  <svg xmlns=\"http://www.w3.org/2000/svg\" height=\"24px\" viewBox=\"0 -960 960 960\">\n",
              "    <path d=\"M120-120v-720h720v720H120Zm60-500h600v-160H180v160Zm220 220h160v-160H400v160Zm0 220h160v-160H400v160ZM180-400h160v-160H180v160Zm440 0h160v-160H620v160ZM180-180h160v-160H180v160Zm440 0h160v-160H620v160Z\"/>\n",
              "  </svg>\n",
              "    </button>\n",
              "\n",
              "  <style>\n",
              "    .colab-df-container {\n",
              "      display:flex;\n",
              "      gap: 12px;\n",
              "    }\n",
              "\n",
              "    .colab-df-convert {\n",
              "      background-color: #E8F0FE;\n",
              "      border: none;\n",
              "      border-radius: 50%;\n",
              "      cursor: pointer;\n",
              "      display: none;\n",
              "      fill: #1967D2;\n",
              "      height: 32px;\n",
              "      padding: 0 0 0 0;\n",
              "      width: 32px;\n",
              "    }\n",
              "\n",
              "    .colab-df-convert:hover {\n",
              "      background-color: #E2EBFA;\n",
              "      box-shadow: 0px 1px 2px rgba(60, 64, 67, 0.3), 0px 1px 3px 1px rgba(60, 64, 67, 0.15);\n",
              "      fill: #174EA6;\n",
              "    }\n",
              "\n",
              "    .colab-df-buttons div {\n",
              "      margin-bottom: 4px;\n",
              "    }\n",
              "\n",
              "    [theme=dark] .colab-df-convert {\n",
              "      background-color: #3B4455;\n",
              "      fill: #D2E3FC;\n",
              "    }\n",
              "\n",
              "    [theme=dark] .colab-df-convert:hover {\n",
              "      background-color: #434B5C;\n",
              "      box-shadow: 0px 1px 3px 1px rgba(0, 0, 0, 0.15);\n",
              "      filter: drop-shadow(0px 1px 2px rgba(0, 0, 0, 0.3));\n",
              "      fill: #FFFFFF;\n",
              "    }\n",
              "  </style>\n",
              "\n",
              "    <script>\n",
              "      const buttonEl =\n",
              "        document.querySelector('#df-0c3940f7-8c3d-45d6-8c29-3bfccc85fad3 button.colab-df-convert');\n",
              "      buttonEl.style.display =\n",
              "        google.colab.kernel.accessAllowed ? 'block' : 'none';\n",
              "\n",
              "      async function convertToInteractive(key) {\n",
              "        const element = document.querySelector('#df-0c3940f7-8c3d-45d6-8c29-3bfccc85fad3');\n",
              "        const dataTable =\n",
              "          await google.colab.kernel.invokeFunction('convertToInteractive',\n",
              "                                                    [key], {});\n",
              "        if (!dataTable) return;\n",
              "\n",
              "        const docLinkHtml = 'Like what you see? Visit the ' +\n",
              "          '<a target=\"_blank\" href=https://colab.research.google.com/notebooks/data_table.ipynb>data table notebook</a>'\n",
              "          + ' to learn more about interactive tables.';\n",
              "        element.innerHTML = '';\n",
              "        dataTable['output_type'] = 'display_data';\n",
              "        await google.colab.output.renderOutput(dataTable, element);\n",
              "        const docLink = document.createElement('div');\n",
              "        docLink.innerHTML = docLinkHtml;\n",
              "        element.appendChild(docLink);\n",
              "      }\n",
              "    </script>\n",
              "  </div>\n",
              "\n",
              "\n",
              "<div id=\"df-3bab65c7-a65f-4042-a87a-54da9d93bf48\">\n",
              "  <button class=\"colab-df-quickchart\" onclick=\"quickchart('df-3bab65c7-a65f-4042-a87a-54da9d93bf48')\"\n",
              "            title=\"Suggest charts\"\n",
              "            style=\"display:none;\">\n",
              "\n",
              "<svg xmlns=\"http://www.w3.org/2000/svg\" height=\"24px\"viewBox=\"0 0 24 24\"\n",
              "     width=\"24px\">\n",
              "    <g>\n",
              "        <path d=\"M19 3H5c-1.1 0-2 .9-2 2v14c0 1.1.9 2 2 2h14c1.1 0 2-.9 2-2V5c0-1.1-.9-2-2-2zM9 17H7v-7h2v7zm4 0h-2V7h2v10zm4 0h-2v-4h2v4z\"/>\n",
              "    </g>\n",
              "</svg>\n",
              "  </button>\n",
              "\n",
              "<style>\n",
              "  .colab-df-quickchart {\n",
              "      --bg-color: #E8F0FE;\n",
              "      --fill-color: #1967D2;\n",
              "      --hover-bg-color: #E2EBFA;\n",
              "      --hover-fill-color: #174EA6;\n",
              "      --disabled-fill-color: #AAA;\n",
              "      --disabled-bg-color: #DDD;\n",
              "  }\n",
              "\n",
              "  [theme=dark] .colab-df-quickchart {\n",
              "      --bg-color: #3B4455;\n",
              "      --fill-color: #D2E3FC;\n",
              "      --hover-bg-color: #434B5C;\n",
              "      --hover-fill-color: #FFFFFF;\n",
              "      --disabled-bg-color: #3B4455;\n",
              "      --disabled-fill-color: #666;\n",
              "  }\n",
              "\n",
              "  .colab-df-quickchart {\n",
              "    background-color: var(--bg-color);\n",
              "    border: none;\n",
              "    border-radius: 50%;\n",
              "    cursor: pointer;\n",
              "    display: none;\n",
              "    fill: var(--fill-color);\n",
              "    height: 32px;\n",
              "    padding: 0;\n",
              "    width: 32px;\n",
              "  }\n",
              "\n",
              "  .colab-df-quickchart:hover {\n",
              "    background-color: var(--hover-bg-color);\n",
              "    box-shadow: 0 1px 2px rgba(60, 64, 67, 0.3), 0 1px 3px 1px rgba(60, 64, 67, 0.15);\n",
              "    fill: var(--button-hover-fill-color);\n",
              "  }\n",
              "\n",
              "  .colab-df-quickchart-complete:disabled,\n",
              "  .colab-df-quickchart-complete:disabled:hover {\n",
              "    background-color: var(--disabled-bg-color);\n",
              "    fill: var(--disabled-fill-color);\n",
              "    box-shadow: none;\n",
              "  }\n",
              "\n",
              "  .colab-df-spinner {\n",
              "    border: 2px solid var(--fill-color);\n",
              "    border-color: transparent;\n",
              "    border-bottom-color: var(--fill-color);\n",
              "    animation:\n",
              "      spin 1s steps(1) infinite;\n",
              "  }\n",
              "\n",
              "  @keyframes spin {\n",
              "    0% {\n",
              "      border-color: transparent;\n",
              "      border-bottom-color: var(--fill-color);\n",
              "      border-left-color: var(--fill-color);\n",
              "    }\n",
              "    20% {\n",
              "      border-color: transparent;\n",
              "      border-left-color: var(--fill-color);\n",
              "      border-top-color: var(--fill-color);\n",
              "    }\n",
              "    30% {\n",
              "      border-color: transparent;\n",
              "      border-left-color: var(--fill-color);\n",
              "      border-top-color: var(--fill-color);\n",
              "      border-right-color: var(--fill-color);\n",
              "    }\n",
              "    40% {\n",
              "      border-color: transparent;\n",
              "      border-right-color: var(--fill-color);\n",
              "      border-top-color: var(--fill-color);\n",
              "    }\n",
              "    60% {\n",
              "      border-color: transparent;\n",
              "      border-right-color: var(--fill-color);\n",
              "    }\n",
              "    80% {\n",
              "      border-color: transparent;\n",
              "      border-right-color: var(--fill-color);\n",
              "      border-bottom-color: var(--fill-color);\n",
              "    }\n",
              "    90% {\n",
              "      border-color: transparent;\n",
              "      border-bottom-color: var(--fill-color);\n",
              "    }\n",
              "  }\n",
              "</style>\n",
              "\n",
              "  <script>\n",
              "    async function quickchart(key) {\n",
              "      const quickchartButtonEl =\n",
              "        document.querySelector('#' + key + ' button');\n",
              "      quickchartButtonEl.disabled = true;  // To prevent multiple clicks.\n",
              "      quickchartButtonEl.classList.add('colab-df-spinner');\n",
              "      try {\n",
              "        const charts = await google.colab.kernel.invokeFunction(\n",
              "            'suggestCharts', [key], {});\n",
              "      } catch (error) {\n",
              "        console.error('Error during call to suggestCharts:', error);\n",
              "      }\n",
              "      quickchartButtonEl.classList.remove('colab-df-spinner');\n",
              "      quickchartButtonEl.classList.add('colab-df-quickchart-complete');\n",
              "    }\n",
              "    (() => {\n",
              "      let quickchartButtonEl =\n",
              "        document.querySelector('#df-3bab65c7-a65f-4042-a87a-54da9d93bf48 button');\n",
              "      quickchartButtonEl.style.display =\n",
              "        google.colab.kernel.accessAllowed ? 'block' : 'none';\n",
              "    })();\n",
              "  </script>\n",
              "</div>\n",
              "\n",
              "    </div>\n",
              "  </div>\n"
            ],
            "application/vnd.google.colaboratory.intrinsic+json": {
              "type": "dataframe",
              "variable_name": "train"
            }
          },
          "metadata": {},
          "execution_count": 3
        }
      ]
    },
    {
      "cell_type": "code",
      "source": [
        "# check the number of records and columns in both of datasets\n",
        "print('No. of records in train dataset: ', len(train.index))\n",
        "print('No. of columns in train dataset: ', len(train.columns))\n",
        "print('No. of records in test dataset: ', len(test.index))\n",
        "print('No. of columns in test dataset: ', len(test.columns))"
      ],
      "metadata": {
        "execution": {
          "iopub.status.busy": "2021-06-10T05:34:41.968768Z",
          "iopub.execute_input": "2021-06-10T05:34:41.96912Z",
          "iopub.status.idle": "2021-06-10T05:34:41.975942Z",
          "shell.execute_reply.started": "2021-06-10T05:34:41.969089Z",
          "shell.execute_reply": "2021-06-10T05:34:41.975135Z"
        },
        "trusted": true,
        "id": "FjktRWe1BwSS",
        "outputId": "f3eb5541-3ef6-4594-d643-4bf1b38f6622",
        "colab": {
          "base_uri": "https://localhost:8080/"
        }
      },
      "execution_count": 4,
      "outputs": [
        {
          "output_type": "stream",
          "name": "stdout",
          "text": [
            "No. of records in train dataset:  1460\n",
            "No. of columns in train dataset:  81\n",
            "No. of records in test dataset:  1459\n",
            "No. of columns in test dataset:  80\n"
          ]
        }
      ]
    },
    {
      "cell_type": "code",
      "source": [
        "# check the missing values\n",
        "print ('Total missing values in train set', sum(train.isna().sum()))\n",
        "print ('Total missing values in test set', sum(test.isna().sum()))"
      ],
      "metadata": {
        "execution": {
          "iopub.status.busy": "2021-06-10T05:34:42.001422Z",
          "iopub.execute_input": "2021-06-10T05:34:42.001786Z",
          "iopub.status.idle": "2021-06-10T05:34:42.02508Z",
          "shell.execute_reply.started": "2021-06-10T05:34:42.001756Z",
          "shell.execute_reply": "2021-06-10T05:34:42.024368Z"
        },
        "trusted": true,
        "id": "uMzyBb1fBwSS",
        "outputId": "887bee1f-4a10-47b9-9955-8144acae6ca9",
        "colab": {
          "base_uri": "https://localhost:8080/"
        }
      },
      "execution_count": 5,
      "outputs": [
        {
          "output_type": "stream",
          "name": "stdout",
          "text": [
            "Total missing values in train set 7829\n",
            "Total missing values in test set 7878\n"
          ]
        }
      ]
    },
    {
      "cell_type": "code",
      "source": [
        "train['SalePrice'].describe()"
      ],
      "metadata": {
        "execution": {
          "iopub.status.busy": "2021-06-10T05:34:42.9154Z",
          "iopub.execute_input": "2021-06-10T05:34:42.915767Z",
          "iopub.status.idle": "2021-06-10T05:34:42.931967Z",
          "shell.execute_reply.started": "2021-06-10T05:34:42.915733Z",
          "shell.execute_reply": "2021-06-10T05:34:42.930863Z"
        },
        "trusted": true,
        "id": "qGcR1mlcBwSS",
        "outputId": "1a187ec5-69a1-4e0b-f272-1bd87449ffdb",
        "colab": {
          "base_uri": "https://localhost:8080/"
        }
      },
      "execution_count": 6,
      "outputs": [
        {
          "output_type": "execute_result",
          "data": {
            "text/plain": [
              "count      1460.000000\n",
              "mean     180921.195890\n",
              "std       79442.502883\n",
              "min       34900.000000\n",
              "25%      129975.000000\n",
              "50%      163000.000000\n",
              "75%      214000.000000\n",
              "max      755000.000000\n",
              "Name: SalePrice, dtype: float64"
            ]
          },
          "metadata": {},
          "execution_count": 6
        }
      ]
    },
    {
      "cell_type": "code",
      "source": [
        "#to print numeric columns\n",
        "numeric_cols = train.select_dtypes(include = [np.number])\n",
        "numeric_cols.head()\n"
      ],
      "metadata": {
        "execution": {
          "iopub.status.busy": "2021-06-10T05:34:43.38305Z",
          "iopub.execute_input": "2021-06-10T05:34:43.383393Z",
          "iopub.status.idle": "2021-06-10T05:34:43.408324Z",
          "shell.execute_reply.started": "2021-06-10T05:34:43.383363Z",
          "shell.execute_reply": "2021-06-10T05:34:43.407156Z"
        },
        "trusted": true,
        "id": "D5sKp0HKBwSS",
        "outputId": "c2dada59-5266-4c1c-b297-f49a3e81cf1d",
        "colab": {
          "base_uri": "https://localhost:8080/",
          "height": 256
        }
      },
      "execution_count": 7,
      "outputs": [
        {
          "output_type": "execute_result",
          "data": {
            "text/plain": [
              "   Id  MSSubClass  LotFrontage  LotArea  OverallQual  OverallCond  YearBuilt  \\\n",
              "0   1          60         65.0     8450            7            5       2003   \n",
              "1   2          20         80.0     9600            6            8       1976   \n",
              "2   3          60         68.0    11250            7            5       2001   \n",
              "3   4          70         60.0     9550            7            5       1915   \n",
              "4   5          60         84.0    14260            8            5       2000   \n",
              "\n",
              "   YearRemodAdd  MasVnrArea  BsmtFinSF1  ...  WoodDeckSF  OpenPorchSF  \\\n",
              "0          2003       196.0         706  ...           0           61   \n",
              "1          1976         0.0         978  ...         298            0   \n",
              "2          2002       162.0         486  ...           0           42   \n",
              "3          1970         0.0         216  ...           0           35   \n",
              "4          2000       350.0         655  ...         192           84   \n",
              "\n",
              "   EnclosedPorch  3SsnPorch  ScreenPorch  PoolArea  MiscVal  MoSold  YrSold  \\\n",
              "0              0          0            0         0        0       2    2008   \n",
              "1              0          0            0         0        0       5    2007   \n",
              "2              0          0            0         0        0       9    2008   \n",
              "3            272          0            0         0        0       2    2006   \n",
              "4              0          0            0         0        0      12    2008   \n",
              "\n",
              "   SalePrice  \n",
              "0     208500  \n",
              "1     181500  \n",
              "2     223500  \n",
              "3     140000  \n",
              "4     250000  \n",
              "\n",
              "[5 rows x 38 columns]"
            ],
            "text/html": [
              "\n",
              "  <div id=\"df-0b8d0b15-f1bc-41b0-91cc-a093aa3a33a5\" class=\"colab-df-container\">\n",
              "    <div>\n",
              "<style scoped>\n",
              "    .dataframe tbody tr th:only-of-type {\n",
              "        vertical-align: middle;\n",
              "    }\n",
              "\n",
              "    .dataframe tbody tr th {\n",
              "        vertical-align: top;\n",
              "    }\n",
              "\n",
              "    .dataframe thead th {\n",
              "        text-align: right;\n",
              "    }\n",
              "</style>\n",
              "<table border=\"1\" class=\"dataframe\">\n",
              "  <thead>\n",
              "    <tr style=\"text-align: right;\">\n",
              "      <th></th>\n",
              "      <th>Id</th>\n",
              "      <th>MSSubClass</th>\n",
              "      <th>LotFrontage</th>\n",
              "      <th>LotArea</th>\n",
              "      <th>OverallQual</th>\n",
              "      <th>OverallCond</th>\n",
              "      <th>YearBuilt</th>\n",
              "      <th>YearRemodAdd</th>\n",
              "      <th>MasVnrArea</th>\n",
              "      <th>BsmtFinSF1</th>\n",
              "      <th>...</th>\n",
              "      <th>WoodDeckSF</th>\n",
              "      <th>OpenPorchSF</th>\n",
              "      <th>EnclosedPorch</th>\n",
              "      <th>3SsnPorch</th>\n",
              "      <th>ScreenPorch</th>\n",
              "      <th>PoolArea</th>\n",
              "      <th>MiscVal</th>\n",
              "      <th>MoSold</th>\n",
              "      <th>YrSold</th>\n",
              "      <th>SalePrice</th>\n",
              "    </tr>\n",
              "  </thead>\n",
              "  <tbody>\n",
              "    <tr>\n",
              "      <th>0</th>\n",
              "      <td>1</td>\n",
              "      <td>60</td>\n",
              "      <td>65.0</td>\n",
              "      <td>8450</td>\n",
              "      <td>7</td>\n",
              "      <td>5</td>\n",
              "      <td>2003</td>\n",
              "      <td>2003</td>\n",
              "      <td>196.0</td>\n",
              "      <td>706</td>\n",
              "      <td>...</td>\n",
              "      <td>0</td>\n",
              "      <td>61</td>\n",
              "      <td>0</td>\n",
              "      <td>0</td>\n",
              "      <td>0</td>\n",
              "      <td>0</td>\n",
              "      <td>0</td>\n",
              "      <td>2</td>\n",
              "      <td>2008</td>\n",
              "      <td>208500</td>\n",
              "    </tr>\n",
              "    <tr>\n",
              "      <th>1</th>\n",
              "      <td>2</td>\n",
              "      <td>20</td>\n",
              "      <td>80.0</td>\n",
              "      <td>9600</td>\n",
              "      <td>6</td>\n",
              "      <td>8</td>\n",
              "      <td>1976</td>\n",
              "      <td>1976</td>\n",
              "      <td>0.0</td>\n",
              "      <td>978</td>\n",
              "      <td>...</td>\n",
              "      <td>298</td>\n",
              "      <td>0</td>\n",
              "      <td>0</td>\n",
              "      <td>0</td>\n",
              "      <td>0</td>\n",
              "      <td>0</td>\n",
              "      <td>0</td>\n",
              "      <td>5</td>\n",
              "      <td>2007</td>\n",
              "      <td>181500</td>\n",
              "    </tr>\n",
              "    <tr>\n",
              "      <th>2</th>\n",
              "      <td>3</td>\n",
              "      <td>60</td>\n",
              "      <td>68.0</td>\n",
              "      <td>11250</td>\n",
              "      <td>7</td>\n",
              "      <td>5</td>\n",
              "      <td>2001</td>\n",
              "      <td>2002</td>\n",
              "      <td>162.0</td>\n",
              "      <td>486</td>\n",
              "      <td>...</td>\n",
              "      <td>0</td>\n",
              "      <td>42</td>\n",
              "      <td>0</td>\n",
              "      <td>0</td>\n",
              "      <td>0</td>\n",
              "      <td>0</td>\n",
              "      <td>0</td>\n",
              "      <td>9</td>\n",
              "      <td>2008</td>\n",
              "      <td>223500</td>\n",
              "    </tr>\n",
              "    <tr>\n",
              "      <th>3</th>\n",
              "      <td>4</td>\n",
              "      <td>70</td>\n",
              "      <td>60.0</td>\n",
              "      <td>9550</td>\n",
              "      <td>7</td>\n",
              "      <td>5</td>\n",
              "      <td>1915</td>\n",
              "      <td>1970</td>\n",
              "      <td>0.0</td>\n",
              "      <td>216</td>\n",
              "      <td>...</td>\n",
              "      <td>0</td>\n",
              "      <td>35</td>\n",
              "      <td>272</td>\n",
              "      <td>0</td>\n",
              "      <td>0</td>\n",
              "      <td>0</td>\n",
              "      <td>0</td>\n",
              "      <td>2</td>\n",
              "      <td>2006</td>\n",
              "      <td>140000</td>\n",
              "    </tr>\n",
              "    <tr>\n",
              "      <th>4</th>\n",
              "      <td>5</td>\n",
              "      <td>60</td>\n",
              "      <td>84.0</td>\n",
              "      <td>14260</td>\n",
              "      <td>8</td>\n",
              "      <td>5</td>\n",
              "      <td>2000</td>\n",
              "      <td>2000</td>\n",
              "      <td>350.0</td>\n",
              "      <td>655</td>\n",
              "      <td>...</td>\n",
              "      <td>192</td>\n",
              "      <td>84</td>\n",
              "      <td>0</td>\n",
              "      <td>0</td>\n",
              "      <td>0</td>\n",
              "      <td>0</td>\n",
              "      <td>0</td>\n",
              "      <td>12</td>\n",
              "      <td>2008</td>\n",
              "      <td>250000</td>\n",
              "    </tr>\n",
              "  </tbody>\n",
              "</table>\n",
              "<p>5 rows × 38 columns</p>\n",
              "</div>\n",
              "    <div class=\"colab-df-buttons\">\n",
              "\n",
              "  <div class=\"colab-df-container\">\n",
              "    <button class=\"colab-df-convert\" onclick=\"convertToInteractive('df-0b8d0b15-f1bc-41b0-91cc-a093aa3a33a5')\"\n",
              "            title=\"Convert this dataframe to an interactive table.\"\n",
              "            style=\"display:none;\">\n",
              "\n",
              "  <svg xmlns=\"http://www.w3.org/2000/svg\" height=\"24px\" viewBox=\"0 -960 960 960\">\n",
              "    <path d=\"M120-120v-720h720v720H120Zm60-500h600v-160H180v160Zm220 220h160v-160H400v160Zm0 220h160v-160H400v160ZM180-400h160v-160H180v160Zm440 0h160v-160H620v160ZM180-180h160v-160H180v160Zm440 0h160v-160H620v160Z\"/>\n",
              "  </svg>\n",
              "    </button>\n",
              "\n",
              "  <style>\n",
              "    .colab-df-container {\n",
              "      display:flex;\n",
              "      gap: 12px;\n",
              "    }\n",
              "\n",
              "    .colab-df-convert {\n",
              "      background-color: #E8F0FE;\n",
              "      border: none;\n",
              "      border-radius: 50%;\n",
              "      cursor: pointer;\n",
              "      display: none;\n",
              "      fill: #1967D2;\n",
              "      height: 32px;\n",
              "      padding: 0 0 0 0;\n",
              "      width: 32px;\n",
              "    }\n",
              "\n",
              "    .colab-df-convert:hover {\n",
              "      background-color: #E2EBFA;\n",
              "      box-shadow: 0px 1px 2px rgba(60, 64, 67, 0.3), 0px 1px 3px 1px rgba(60, 64, 67, 0.15);\n",
              "      fill: #174EA6;\n",
              "    }\n",
              "\n",
              "    .colab-df-buttons div {\n",
              "      margin-bottom: 4px;\n",
              "    }\n",
              "\n",
              "    [theme=dark] .colab-df-convert {\n",
              "      background-color: #3B4455;\n",
              "      fill: #D2E3FC;\n",
              "    }\n",
              "\n",
              "    [theme=dark] .colab-df-convert:hover {\n",
              "      background-color: #434B5C;\n",
              "      box-shadow: 0px 1px 3px 1px rgba(0, 0, 0, 0.15);\n",
              "      filter: drop-shadow(0px 1px 2px rgba(0, 0, 0, 0.3));\n",
              "      fill: #FFFFFF;\n",
              "    }\n",
              "  </style>\n",
              "\n",
              "    <script>\n",
              "      const buttonEl =\n",
              "        document.querySelector('#df-0b8d0b15-f1bc-41b0-91cc-a093aa3a33a5 button.colab-df-convert');\n",
              "      buttonEl.style.display =\n",
              "        google.colab.kernel.accessAllowed ? 'block' : 'none';\n",
              "\n",
              "      async function convertToInteractive(key) {\n",
              "        const element = document.querySelector('#df-0b8d0b15-f1bc-41b0-91cc-a093aa3a33a5');\n",
              "        const dataTable =\n",
              "          await google.colab.kernel.invokeFunction('convertToInteractive',\n",
              "                                                    [key], {});\n",
              "        if (!dataTable) return;\n",
              "\n",
              "        const docLinkHtml = 'Like what you see? Visit the ' +\n",
              "          '<a target=\"_blank\" href=https://colab.research.google.com/notebooks/data_table.ipynb>data table notebook</a>'\n",
              "          + ' to learn more about interactive tables.';\n",
              "        element.innerHTML = '';\n",
              "        dataTable['output_type'] = 'display_data';\n",
              "        await google.colab.output.renderOutput(dataTable, element);\n",
              "        const docLink = document.createElement('div');\n",
              "        docLink.innerHTML = docLinkHtml;\n",
              "        element.appendChild(docLink);\n",
              "      }\n",
              "    </script>\n",
              "  </div>\n",
              "\n",
              "\n",
              "<div id=\"df-1ce56538-85cb-4957-8499-d725e7a44ba8\">\n",
              "  <button class=\"colab-df-quickchart\" onclick=\"quickchart('df-1ce56538-85cb-4957-8499-d725e7a44ba8')\"\n",
              "            title=\"Suggest charts\"\n",
              "            style=\"display:none;\">\n",
              "\n",
              "<svg xmlns=\"http://www.w3.org/2000/svg\" height=\"24px\"viewBox=\"0 0 24 24\"\n",
              "     width=\"24px\">\n",
              "    <g>\n",
              "        <path d=\"M19 3H5c-1.1 0-2 .9-2 2v14c0 1.1.9 2 2 2h14c1.1 0 2-.9 2-2V5c0-1.1-.9-2-2-2zM9 17H7v-7h2v7zm4 0h-2V7h2v10zm4 0h-2v-4h2v4z\"/>\n",
              "    </g>\n",
              "</svg>\n",
              "  </button>\n",
              "\n",
              "<style>\n",
              "  .colab-df-quickchart {\n",
              "      --bg-color: #E8F0FE;\n",
              "      --fill-color: #1967D2;\n",
              "      --hover-bg-color: #E2EBFA;\n",
              "      --hover-fill-color: #174EA6;\n",
              "      --disabled-fill-color: #AAA;\n",
              "      --disabled-bg-color: #DDD;\n",
              "  }\n",
              "\n",
              "  [theme=dark] .colab-df-quickchart {\n",
              "      --bg-color: #3B4455;\n",
              "      --fill-color: #D2E3FC;\n",
              "      --hover-bg-color: #434B5C;\n",
              "      --hover-fill-color: #FFFFFF;\n",
              "      --disabled-bg-color: #3B4455;\n",
              "      --disabled-fill-color: #666;\n",
              "  }\n",
              "\n",
              "  .colab-df-quickchart {\n",
              "    background-color: var(--bg-color);\n",
              "    border: none;\n",
              "    border-radius: 50%;\n",
              "    cursor: pointer;\n",
              "    display: none;\n",
              "    fill: var(--fill-color);\n",
              "    height: 32px;\n",
              "    padding: 0;\n",
              "    width: 32px;\n",
              "  }\n",
              "\n",
              "  .colab-df-quickchart:hover {\n",
              "    background-color: var(--hover-bg-color);\n",
              "    box-shadow: 0 1px 2px rgba(60, 64, 67, 0.3), 0 1px 3px 1px rgba(60, 64, 67, 0.15);\n",
              "    fill: var(--button-hover-fill-color);\n",
              "  }\n",
              "\n",
              "  .colab-df-quickchart-complete:disabled,\n",
              "  .colab-df-quickchart-complete:disabled:hover {\n",
              "    background-color: var(--disabled-bg-color);\n",
              "    fill: var(--disabled-fill-color);\n",
              "    box-shadow: none;\n",
              "  }\n",
              "\n",
              "  .colab-df-spinner {\n",
              "    border: 2px solid var(--fill-color);\n",
              "    border-color: transparent;\n",
              "    border-bottom-color: var(--fill-color);\n",
              "    animation:\n",
              "      spin 1s steps(1) infinite;\n",
              "  }\n",
              "\n",
              "  @keyframes spin {\n",
              "    0% {\n",
              "      border-color: transparent;\n",
              "      border-bottom-color: var(--fill-color);\n",
              "      border-left-color: var(--fill-color);\n",
              "    }\n",
              "    20% {\n",
              "      border-color: transparent;\n",
              "      border-left-color: var(--fill-color);\n",
              "      border-top-color: var(--fill-color);\n",
              "    }\n",
              "    30% {\n",
              "      border-color: transparent;\n",
              "      border-left-color: var(--fill-color);\n",
              "      border-top-color: var(--fill-color);\n",
              "      border-right-color: var(--fill-color);\n",
              "    }\n",
              "    40% {\n",
              "      border-color: transparent;\n",
              "      border-right-color: var(--fill-color);\n",
              "      border-top-color: var(--fill-color);\n",
              "    }\n",
              "    60% {\n",
              "      border-color: transparent;\n",
              "      border-right-color: var(--fill-color);\n",
              "    }\n",
              "    80% {\n",
              "      border-color: transparent;\n",
              "      border-right-color: var(--fill-color);\n",
              "      border-bottom-color: var(--fill-color);\n",
              "    }\n",
              "    90% {\n",
              "      border-color: transparent;\n",
              "      border-bottom-color: var(--fill-color);\n",
              "    }\n",
              "  }\n",
              "</style>\n",
              "\n",
              "  <script>\n",
              "    async function quickchart(key) {\n",
              "      const quickchartButtonEl =\n",
              "        document.querySelector('#' + key + ' button');\n",
              "      quickchartButtonEl.disabled = true;  // To prevent multiple clicks.\n",
              "      quickchartButtonEl.classList.add('colab-df-spinner');\n",
              "      try {\n",
              "        const charts = await google.colab.kernel.invokeFunction(\n",
              "            'suggestCharts', [key], {});\n",
              "      } catch (error) {\n",
              "        console.error('Error during call to suggestCharts:', error);\n",
              "      }\n",
              "      quickchartButtonEl.classList.remove('colab-df-spinner');\n",
              "      quickchartButtonEl.classList.add('colab-df-quickchart-complete');\n",
              "    }\n",
              "    (() => {\n",
              "      let quickchartButtonEl =\n",
              "        document.querySelector('#df-1ce56538-85cb-4957-8499-d725e7a44ba8 button');\n",
              "      quickchartButtonEl.style.display =\n",
              "        google.colab.kernel.accessAllowed ? 'block' : 'none';\n",
              "    })();\n",
              "  </script>\n",
              "</div>\n",
              "\n",
              "    </div>\n",
              "  </div>\n"
            ],
            "application/vnd.google.colaboratory.intrinsic+json": {
              "type": "dataframe",
              "variable_name": "numeric_cols"
            }
          },
          "metadata": {},
          "execution_count": 7
        }
      ]
    },
    {
      "cell_type": "code",
      "source": [
        "#to get coorelation\n",
        "corr = numeric_cols.corr()\n",
        "print ('The Most Correlated Features with SalePrice:'), print (corr['SalePrice'].sort_values(ascending = False)[:10], '\\n')\n",
        "print ('The Most Uncorrelated Features with SalePrice:'), print (corr['SalePrice'].sort_values(ascending = False)[-5:])"
      ],
      "metadata": {
        "id": "VE59Rze2Fvg_",
        "outputId": "e4d4427e-768d-4b85-e0a8-d34ad0fbc588",
        "colab": {
          "base_uri": "https://localhost:8080/"
        }
      },
      "execution_count": 8,
      "outputs": [
        {
          "output_type": "stream",
          "name": "stdout",
          "text": [
            "The Most Correlated Features with SalePrice:\n",
            "SalePrice       1.000000\n",
            "OverallQual     0.790982\n",
            "GrLivArea       0.708624\n",
            "GarageCars      0.640409\n",
            "GarageArea      0.623431\n",
            "TotalBsmtSF     0.613581\n",
            "1stFlrSF        0.605852\n",
            "FullBath        0.560664\n",
            "TotRmsAbvGrd    0.533723\n",
            "YearBuilt       0.522897\n",
            "Name: SalePrice, dtype: float64 \n",
            "\n",
            "The Most Uncorrelated Features with SalePrice:\n",
            "YrSold          -0.028923\n",
            "OverallCond     -0.077856\n",
            "MSSubClass      -0.084284\n",
            "EnclosedPorch   -0.128578\n",
            "KitchenAbvGr    -0.135907\n",
            "Name: SalePrice, dtype: float64\n"
          ]
        },
        {
          "output_type": "execute_result",
          "data": {
            "text/plain": [
              "(None, None)"
            ]
          },
          "metadata": {},
          "execution_count": 8
        }
      ]
    },
    {
      "cell_type": "markdown",
      "source": [
        "The most correlated features to sale price were the overall quality score (79%), above-ground living area (71%), garage area (64%), and number-of-car garage (62%). Next step is to plot each variable individually against SalePrice in a scatter plot to check outliers as outliers can affect the regression model by pulling the estimated regression line further away from the true population regression line."
      ],
      "metadata": {
        "id": "QLDp63vcBwST"
      }
    },
    {
      "cell_type": "code",
      "source": [
        "plt.scatter(x = train['GrLivArea'], y = train['SalePrice'])\n",
        "plt.ylabel('SalePrice')\n",
        "plt.xlabel('GrLivArea (Above grade \"ground\" living area square feet)')"
      ],
      "metadata": {
        "execution": {
          "iopub.status.busy": "2021-06-10T05:34:44.0424Z",
          "iopub.execute_input": "2021-06-10T05:34:44.042784Z",
          "iopub.status.idle": "2021-06-10T05:34:44.270981Z",
          "shell.execute_reply.started": "2021-06-10T05:34:44.042752Z",
          "shell.execute_reply": "2021-06-10T05:34:44.269897Z"
        },
        "trusted": true,
        "id": "rsZq_u78BwST",
        "outputId": "931ef043-cd63-4957-bf99-f8042dff4128",
        "colab": {
          "base_uri": "https://localhost:8080/",
          "height": 466
        }
      },
      "execution_count": 9,
      "outputs": [
        {
          "output_type": "execute_result",
          "data": {
            "text/plain": [
              "Text(0.5, 0, 'GrLivArea (Above grade \"ground\" living area square feet)')"
            ]
          },
          "metadata": {},
          "execution_count": 9
        },
        {
          "output_type": "display_data",
          "data": {
            "text/plain": [
              "<Figure size 640x480 with 1 Axes>"
            ],
            "image/png": "[encoded data removed]"
          },
          "metadata": {}
        }
      ]
    },
    {
      "cell_type": "markdown",
      "source": [
        "At first glance, there are increases in living area correspond to increases in price, with few outliers."
      ],
      "metadata": {
        "id": "4tRv-ojfBwST"
      }
    },
    {
      "cell_type": "code",
      "source": [
        "plt.scatter(x = train['GarageArea'], y = train['SalePrice'])\n",
        "plt.ylabel('SalePrice')\n",
        "plt.xlabel('GarageArea')"
      ],
      "metadata": {
        "execution": {
          "iopub.status.busy": "2021-06-10T05:34:44.673574Z",
          "iopub.execute_input": "2021-06-10T05:34:44.673896Z",
          "iopub.status.idle": "2021-06-10T05:34:44.867232Z",
          "shell.execute_reply.started": "2021-06-10T05:34:44.673869Z",
          "shell.execute_reply": "2021-06-10T05:34:44.866383Z"
        },
        "trusted": true,
        "id": "pCFuMsH4BwST",
        "outputId": "a554612e-093e-4b99-a210-a821e0b8a31a",
        "colab": {
          "base_uri": "https://localhost:8080/",
          "height": 466
        }
      },
      "execution_count": 10,
      "outputs": [
        {
          "output_type": "execute_result",
          "data": {
            "text/plain": [
              "Text(0.5, 0, 'GarageArea')"
            ]
          },
          "metadata": {},
          "execution_count": 10
        },
        {
          "output_type": "display_data",
          "data": {
            "text/plain": [
              "<Figure size 640x480 with 1 Axes>"
            ],
            "image/png": "[encoded data removed]"
          },
          "metadata": {}
        }
      ]
    },
    {
      "cell_type": "markdown",
      "source": [
        "So there are many homes with 0 for GarageArea and there are a few outliers as well!"
      ],
      "metadata": {
        "id": "Kb3OUwVqBwST"
      }
    },
    {
      "cell_type": "markdown",
      "source": [
        "Data preprocessing\n"
      ],
      "metadata": {
        "id": "hJ6wh2pjBwST"
      }
    },
    {
      "cell_type": "code",
      "source": [
        "# remove GrLivArea outliers\n",
        "train = train[train['GrLivArea'] < 4500]"
      ],
      "metadata": {
        "execution": {
          "iopub.status.busy": "2021-06-10T05:34:46.009641Z",
          "iopub.execute_input": "2021-06-10T05:34:46.010078Z",
          "iopub.status.idle": "2021-06-10T05:34:46.03193Z",
          "shell.execute_reply.started": "2021-06-10T05:34:46.010045Z",
          "shell.execute_reply": "2021-06-10T05:34:46.030947Z"
        },
        "trusted": true,
        "id": "nas6fxSCBwST"
      },
      "execution_count": 11,
      "outputs": []
    },
    {
      "cell_type": "code",
      "source": [
        "# remove GarageArea outliers\n",
        "train = train[train['GarageArea'] < 1200]"
      ],
      "metadata": {
        "execution": {
          "iopub.status.busy": "2021-06-10T05:34:46.395124Z",
          "iopub.execute_input": "2021-06-10T05:34:46.395526Z",
          "iopub.status.idle": "2021-06-10T05:34:46.402288Z",
          "shell.execute_reply.started": "2021-06-10T05:34:46.39549Z",
          "shell.execute_reply": "2021-06-10T05:34:46.401239Z"
        },
        "trusted": true,
        "id": "2dQ724bDBwST"
      },
      "execution_count": 12,
      "outputs": []
    },
    {
      "cell_type": "code",
      "source": [],
      "metadata": {
        "id": "fsJ9yyykJNHf"
      },
      "execution_count": 12,
      "outputs": []
    },
    {
      "cell_type": "code",
      "source": [
        "# drop columns with percentage of missing values > 80%\n",
        "train_percentage = train.isnull().sum() / train.shape[0]\n",
        "print (train_percentage[train_percentage > 0.80])\n",
        "train = train.drop(train_percentage[train_percentage > 0.80].index, axis = 1)"
      ],
      "metadata": {
        "execution": {
          "iopub.status.busy": "2021-06-10T05:34:46.794882Z",
          "iopub.execute_input": "2021-06-10T05:34:46.795239Z",
          "iopub.status.idle": "2021-06-10T05:34:46.814381Z",
          "shell.execute_reply.started": "2021-06-10T05:34:46.795209Z",
          "shell.execute_reply": "2021-06-10T05:34:46.813079Z"
        },
        "trusted": true,
        "id": "jgiAwqJMBwST",
        "outputId": "c660a101-40e3-4abb-a629-1b9d60bdc8df",
        "colab": {
          "base_uri": "https://localhost:8080/"
        }
      },
      "execution_count": 13,
      "outputs": [
        {
          "output_type": "stream",
          "name": "stdout",
          "text": [
            "Alley          0.937414\n",
            "PoolQC         0.995873\n",
            "Fence          0.806740\n",
            "MiscFeature    0.963549\n",
            "dtype: float64\n"
          ]
        }
      ]
    },
    {
      "cell_type": "code",
      "source": [
        "# do the same with test data\n",
        "test_percentage = test.isnull().sum() / test.shape[0]\n",
        "print (test_percentage[test_percentage > 0.80])\n",
        "test = test.drop(test_percentage[test_percentage > 0.80].index, axis = 1)"
      ],
      "metadata": {
        "execution": {
          "iopub.status.busy": "2021-06-10T05:34:47.529726Z",
          "iopub.execute_input": "2021-06-10T05:34:47.530073Z",
          "iopub.status.idle": "2021-06-10T05:34:47.548524Z",
          "shell.execute_reply.started": "2021-06-10T05:34:47.530043Z",
          "shell.execute_reply": "2021-06-10T05:34:47.547155Z"
        },
        "trusted": true,
        "id": "WNcOarkLBwST",
        "outputId": "1233052c-ab94-4dde-c722-177f820daabb",
        "colab": {
          "base_uri": "https://localhost:8080/"
        }
      },
      "execution_count": 14,
      "outputs": [
        {
          "output_type": "stream",
          "name": "stdout",
          "text": [
            "Alley          0.926662\n",
            "PoolQC         0.997944\n",
            "Fence          0.801234\n",
            "MiscFeature    0.965045\n",
            "dtype: float64\n"
          ]
        }
      ]
    },
    {
      "cell_type": "code",
      "source": [
        "# encode categorical variables\n",
        "le = preprocessing.LabelEncoder()\n",
        "for name in train.columns:\n",
        "    if train[name].dtypes == 'O':\n",
        "        train[name] = train[name].astype(str)\n",
        "        le.fit(train[name])\n",
        "        train[name] = le.transform(train[name])"
      ],
      "metadata": {
        "execution": {
          "iopub.status.busy": "2021-06-10T05:34:51.838967Z",
          "iopub.execute_input": "2021-06-10T05:34:51.839334Z",
          "iopub.status.idle": "2021-06-10T05:34:51.900402Z",
          "shell.execute_reply.started": "2021-06-10T05:34:51.839287Z",
          "shell.execute_reply": "2021-06-10T05:34:51.899476Z"
        },
        "trusted": true,
        "id": "cW5G2HNsBwST"
      },
      "execution_count": 15,
      "outputs": []
    },
    {
      "cell_type": "code",
      "source": [
        "# do the same for testset\n",
        "for name in test.columns:\n",
        "    if test[name].dtypes == 'O':\n",
        "        test[name] = test[name].astype(str)\n",
        "        le.fit(test[name])\n",
        "        test[name] = le.transform(test[name])"
      ],
      "metadata": {
        "execution": {
          "iopub.status.busy": "2021-06-10T05:34:52.443154Z",
          "iopub.execute_input": "2021-06-10T05:34:52.443511Z",
          "iopub.status.idle": "2021-06-10T05:34:52.501373Z",
          "shell.execute_reply.started": "2021-06-10T05:34:52.443482Z",
          "shell.execute_reply": "2021-06-10T05:34:52.500621Z"
        },
        "trusted": true,
        "id": "pLDljGqCBwSU"
      },
      "execution_count": 16,
      "outputs": []
    },
    {
      "cell_type": "code",
      "source": [
        "# fill missing values based on probability of occurrence\n",
        "for column in train.columns:\n",
        "    null_vals = train.isnull().values\n",
        "    a, b = np.unique(train.values[~null_vals], return_counts = 1)\n",
        "    train.loc[train[column].isna(), column] = np.random.choice(a, train[column].isnull().sum(), p = b / b.sum())"
      ],
      "metadata": {
        "execution": {
          "iopub.status.busy": "2021-06-10T05:34:56.386043Z",
          "iopub.execute_input": "2021-06-10T05:34:56.386556Z",
          "iopub.status.idle": "2021-06-10T05:34:57.032804Z",
          "shell.execute_reply.started": "2021-06-10T05:34:56.386525Z",
          "shell.execute_reply": "2021-06-10T05:34:57.031773Z"
        },
        "trusted": true,
        "id": "Hw7MB1SyBwSU"
      },
      "execution_count": 17,
      "outputs": []
    },
    {
      "cell_type": "code",
      "source": [
        "# apply log transformation to reduce skewness over .75 by taking log(feature + 1)\n",
        "skewed_train = train.apply(lambda x: skew(x.dropna()))\n",
        "skewed_train = skewed_train[skewed_train > .75]\n",
        "train[skewed_train.index] = np.log1p(train[skewed_train.index])"
      ],
      "metadata": {
        "execution": {
          "iopub.status.busy": "2021-06-10T05:34:57.231304Z",
          "iopub.execute_input": "2021-06-10T05:34:57.231756Z",
          "iopub.status.idle": "2021-06-10T05:34:57.284655Z",
          "shell.execute_reply.started": "2021-06-10T05:34:57.231726Z",
          "shell.execute_reply": "2021-06-10T05:34:57.283812Z"
        },
        "trusted": true,
        "id": "EAd7xenYBwSU"
      },
      "execution_count": 18,
      "outputs": []
    },
    {
      "cell_type": "code",
      "source": [
        "# deal with the skewness in the test data\n",
        "skewed_test = test.apply(lambda x: skew(x.dropna()))\n",
        "skewed_test = skewed_test[skewed_test > .75]\n",
        "test[skewed_test.index] = np.log1p(test[skewed_test.index])"
      ],
      "metadata": {
        "execution": {
          "iopub.status.busy": "2021-06-10T05:34:57.779029Z",
          "iopub.execute_input": "2021-06-10T05:34:57.779523Z",
          "iopub.status.idle": "2021-06-10T05:34:57.831712Z",
          "shell.execute_reply.started": "2021-06-10T05:34:57.779491Z",
          "shell.execute_reply": "2021-06-10T05:34:57.830832Z"
        },
        "trusted": true,
        "id": "MrSJt4iNBwSU"
      },
      "execution_count": 19,
      "outputs": []
    },
    {
      "cell_type": "markdown",
      "source": [
        "# Modelling"
      ],
      "metadata": {
        "id": "JW7Kaj9LBwSU"
      }
    },
    {
      "cell_type": "markdown",
      "source": [
        "I will perform a simple linear regression on the dataset to predict house prices. In order to train out the regression model, we need to first split up the data into an X list that contains the features to train on, and a y list with the target variable, in this case, the Price column."
      ],
      "metadata": {
        "id": "No49ohwxBwSU"
      }
    },
    {
      "cell_type": "code",
      "source": [
        "X = train.drop(['SalePrice', 'Id'], axis = 1)\n",
        "y = train['SalePrice']\n",
        "X_train, X_test, y_train, y_test = train_test_split(X, y, test_size = 0.2, random_state = 42)"
      ],
      "metadata": {
        "execution": {
          "iopub.status.busy": "2021-06-10T05:34:59.471082Z",
          "iopub.execute_input": "2021-06-10T05:34:59.47327Z",
          "iopub.status.idle": "2021-06-10T05:34:59.481414Z",
          "shell.execute_reply.started": "2021-06-10T05:34:59.473221Z",
          "shell.execute_reply": "2021-06-10T05:34:59.48053Z"
        },
        "trusted": true,
        "id": "tcBTUlngBwSU"
      },
      "execution_count": 20,
      "outputs": []
    },
    {
      "cell_type": "markdown",
      "source": [
        "Split the data into training and testing set using scikit-learn train_test_split function. We are using 80% of the data for training and 20% for testing, train_test_split() returns four objects:\n",
        "\n",
        "- **X_train**: the subset of our features used for training\n",
        "- **X_test**: the subset which will be our ‘hold-out’ set – what we’ll use to test the model\n",
        "- **y_train**: the target variable SalePrice which corresponds to X_train\n",
        "- **y_test**: the target variable SalePrice which corresponds to X_test\n",
        "\n",
        "Now we will import the linear regression class, create an object of that class, which is the linear regression model."
      ],
      "metadata": {
        "id": "hYetTt4gBwSU"
      }
    },
    {
      "cell_type": "code",
      "source": [
        "lr = linear_model.LinearRegression()"
      ],
      "metadata": {
        "execution": {
          "iopub.status.busy": "2021-06-10T05:35:00.03122Z",
          "iopub.execute_input": "2021-06-10T05:35:00.031726Z",
          "iopub.status.idle": "2021-06-10T05:35:00.035204Z",
          "shell.execute_reply.started": "2021-06-10T05:35:00.031694Z",
          "shell.execute_reply": "2021-06-10T05:35:00.034455Z"
        },
        "trusted": true,
        "id": "7dkOS89oBwSU"
      },
      "execution_count": 21,
      "outputs": []
    },
    {
      "cell_type": "markdown",
      "source": [
        "Then using the fit method to \"fit\" the model to the dataset. What this does is nothing but make the regressor \"study\" the data and \"learn\" from it."
      ],
      "metadata": {
        "id": "aXhMz5ZYBwSU"
      }
    },
    {
      "cell_type": "code",
      "source": [
        "model = lr.fit(X_train, y_train)"
      ],
      "metadata": {
        "execution": {
          "iopub.status.busy": "2021-06-10T05:35:00.868573Z",
          "iopub.execute_input": "2021-06-10T05:35:00.869095Z",
          "iopub.status.idle": "2021-06-10T05:35:00.903471Z",
          "shell.execute_reply.started": "2021-06-10T05:35:00.869061Z",
          "shell.execute_reply": "2021-06-10T05:35:00.902259Z"
        },
        "trusted": true,
        "id": "WVD9hd_YBwSV"
      },
      "execution_count": 22,
      "outputs": []
    },
    {
      "cell_type": "markdown",
      "source": [
        "R-squared is the measure of how close the data are to the fitted regression line, in other words it measures the strength of the relationship between the model and the SalePrice on a convenient 0 – 100% scale."
      ],
      "metadata": {
        "id": "qfCr2oBWBwSY"
      }
    },
    {
      "cell_type": "code",
      "source": [
        "# make predictions based on model\n",
        "predictions = model.predict(X_test)"
      ],
      "metadata": {
        "execution": {
          "iopub.status.busy": "2021-06-10T05:35:02.612432Z",
          "iopub.execute_input": "2021-06-10T05:35:02.612768Z",
          "iopub.status.idle": "2021-06-10T05:35:02.622971Z",
          "shell.execute_reply.started": "2021-06-10T05:35:02.61274Z",
          "shell.execute_reply": "2021-06-10T05:35:02.621882Z"
        },
        "trusted": true,
        "id": "pivSd6LgBwSY"
      },
      "execution_count": 23,
      "outputs": []
    },
    {
      "cell_type": "markdown",
      "source": [
        "There are three primary metrics used to evaluate linear models. These are:\n",
        "* Mean absolute error (MAE)\n",
        "* Mean squared error (MSE)\n",
        "* Root mean squared error (RMSE)\n",
        "\n",
        "**MAE**: The easiest to understand. Represents average error.<br>\n",
        "**MSE**: Similar to MAE but noise is exaggerated and larger errors are \"punished\". It is harder to interpret than MAE as it's not in base units, however, it is generally more popular.<br>\n",
        "**RMSE**: Most popular metric, similar to MSE, however, the result is square rooted to make it more interpretable as it's in base units. It is recommended that RMSE be used as the primary metric to interpret your model."
      ],
      "metadata": {
        "id": "nx3f2s1nBwSY"
      }
    },
    {
      "cell_type": "code",
      "source": [
        "print ('MAE is:', mean_absolute_error(y_test, predictions))\n",
        "print ('MSE is:', mean_squared_error(y_test, predictions))\n",
        "print ('RMSE is:', sqrt(mean_squared_error(y_test, predictions)))"
      ],
      "metadata": {
        "execution": {
          "iopub.status.busy": "2021-06-10T05:35:04.355491Z",
          "iopub.execute_input": "2021-06-10T05:35:04.355863Z",
          "iopub.status.idle": "2021-06-10T05:35:04.363965Z",
          "shell.execute_reply.started": "2021-06-10T05:35:04.355835Z",
          "shell.execute_reply": "2021-06-10T05:35:04.36247Z"
        },
        "trusted": true,
        "id": "tHJ2h3ugBwSY",
        "outputId": "3e2f472a-9cd9-4d85-d062-538082d92019",
        "colab": {
          "base_uri": "https://localhost:8080/"
        }
      },
      "execution_count": 24,
      "outputs": [
        {
          "output_type": "stream",
          "name": "stdout",
          "text": [
            "MAE is: 0.08596869364810052\n",
            "MSE is: 0.016535761413422716\n",
            "RMSE is: 0.12859145155655843\n"
          ]
        }
      ]
    },
    {
      "cell_type": "code",
      "source": [
        "# alpha helps to show overlapping data\n",
        "plt.scatter(predictions, y_test, alpha = 0.7, color = 'b')\n",
        "plt.xlabel('Predicted Price')\n",
        "plt.ylabel('Actual Price')\n",
        "plt.title('Linear Regression Model')"
      ],
      "metadata": {
        "execution": {
          "iopub.status.busy": "2021-06-10T05:35:05.995819Z",
          "iopub.execute_input": "2021-06-10T05:35:05.996163Z",
          "iopub.status.idle": "2021-06-10T05:35:06.176656Z",
          "shell.execute_reply.started": "2021-06-10T05:35:05.996134Z",
          "shell.execute_reply": "2021-06-10T05:35:06.175454Z"
        },
        "trusted": true,
        "id": "hIMk2779BwSY",
        "outputId": "843293f3-dbbb-4308-de0a-da965fdba4cd",
        "colab": {
          "base_uri": "https://localhost:8080/",
          "height": 489
        }
      },
      "execution_count": 25,
      "outputs": [
        {
          "output_type": "execute_result",
          "data": {
            "text/plain": [
              "Text(0.5, 1.0, 'Linear Regression Model')"
            ]
          },
          "metadata": {},
          "execution_count": 25
        },
        {
          "output_type": "display_data",
          "data": {
            "text/plain": [
              "<Figure size 640x480 with 1 Axes>"
            ],
            "image/png": "[encoded data removed]"
          },
          "metadata": {}
        }
      ]
    },
    {
      "cell_type": "markdown",
      "source": [
        "# Submission"
      ],
      "metadata": {
        "id": "jEeezwIcBwSY"
      }
    },
    {
      "cell_type": "code",
      "source": [
        "submission = pd.DataFrame()\n",
        "submission['Id'] = test['Id'].astype(int)"
      ],
      "metadata": {
        "execution": {
          "iopub.status.busy": "2021-06-03T14:21:08.239824Z",
          "iopub.execute_input": "2021-06-03T14:21:08.240204Z",
          "iopub.status.idle": "2021-06-03T14:21:08.24666Z",
          "shell.execute_reply.started": "2021-06-03T14:21:08.240163Z",
          "shell.execute_reply": "2021-06-03T14:21:08.245583Z"
        },
        "trusted": true,
        "id": "zt9fOmw6BwSZ"
      },
      "execution_count": 26,
      "outputs": []
    },
    {
      "cell_type": "code",
      "source": [
        "temp = test.select_dtypes(include = [np.number]).drop(['Id'], axis = 1).interpolate()"
      ],
      "metadata": {
        "execution": {
          "iopub.status.busy": "2021-06-03T14:21:08.594909Z",
          "iopub.execute_input": "2021-06-03T14:21:08.595302Z",
          "iopub.status.idle": "2021-06-03T14:21:08.608945Z",
          "shell.execute_reply.started": "2021-06-03T14:21:08.595257Z",
          "shell.execute_reply": "2021-06-03T14:21:08.607985Z"
        },
        "trusted": true,
        "id": "yUCznn7yBwSZ"
      },
      "execution_count": 27,
      "outputs": []
    },
    {
      "cell_type": "code",
      "source": [
        "predictions = model.predict(temp)"
      ],
      "metadata": {
        "execution": {
          "iopub.status.busy": "2021-06-03T14:21:08.969983Z",
          "iopub.execute_input": "2021-06-03T14:21:08.970395Z",
          "iopub.status.idle": "2021-06-03T14:21:08.984413Z",
          "shell.execute_reply.started": "2021-06-03T14:21:08.970357Z",
          "shell.execute_reply": "2021-06-03T14:21:08.981866Z"
        },
        "trusted": true,
        "id": "7DzwO-3fBwSZ"
      },
      "execution_count": 28,
      "outputs": []
    },
    {
      "cell_type": "code",
      "source": [
        "predictions = np.exp(predictions)\n",
        "submission['SalePrice'] = predictions"
      ],
      "metadata": {
        "execution": {
          "iopub.status.busy": "2021-06-03T14:21:09.419623Z",
          "iopub.execute_input": "2021-06-03T14:21:09.420264Z",
          "iopub.status.idle": "2021-06-03T14:21:09.427006Z",
          "shell.execute_reply.started": "2021-06-03T14:21:09.420199Z",
          "shell.execute_reply": "2021-06-03T14:21:09.42605Z"
        },
        "trusted": true,
        "id": "jXj1-k7lBwSZ"
      },
      "execution_count": 29,
      "outputs": []
    },
    {
      "cell_type": "code",
      "source": [
        "submission.to_csv('submission.csv', index = False)"
      ],
      "metadata": {
        "execution": {
          "iopub.status.busy": "2021-06-03T14:21:12.152048Z",
          "iopub.execute_input": "2021-06-03T14:21:12.152711Z",
          "iopub.status.idle": "2021-06-03T14:21:12.167841Z",
          "shell.execute_reply.started": "2021-06-03T14:21:12.152656Z",
          "shell.execute_reply": "2021-06-03T14:21:12.166675Z"
        },
        "trusted": true,
        "id": "pL4MnpSIBwSZ"
      },
      "execution_count": 30,
      "outputs": []
    }
  ]
}